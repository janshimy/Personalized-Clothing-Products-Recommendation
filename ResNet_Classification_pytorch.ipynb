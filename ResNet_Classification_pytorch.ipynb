{
  "cells": [
    {
      "cell_type": "markdown",
      "source": [
        "#Training Image Feature extraction with PyTorch - ResNet\n",
        "\n",
        "Within this notebook I implemented ResNet 34 for image feature extraction. The predictions of the model (main feature of the image) can be used for several purposes including recommendation systems, face verification/recognition, among others. For this case, the model is trained on facial images for face recognition use case."
      ],
      "metadata": {
        "id": "v7kkueJEkRVM"
      },
      "id": "v7kkueJEkRVM"
    },
    {
      "cell_type": "code",
      "execution_count": null,
      "id": "improved-person",
      "metadata": {
        "id": "improved-person"
      },
      "outputs": [],
      "source": [
        "import os\n",
        "import numpy as np\n",
        "from PIL import Image\n",
        "import csv\n",
        "import pandas as pd\n",
        "\n",
        "import torch\n",
        "import torchvision   \n",
        "import torch.nn as nn\n",
        "import torch.nn.functional as F\n",
        "from torch.utils.data import Dataset, DataLoader\n",
        "import matplotlib.pyplot as plt"
      ]
    },
    {
      "cell_type": "code",
      "execution_count": null,
      "id": "religious-mustang",
      "metadata": {
        "id": "religious-mustang"
      },
      "outputs": [],
      "source": [
        "!pip install kaggle"
      ]
    },
    {
      "cell_type": "code",
      "execution_count": null,
      "id": "presidential-contractor",
      "metadata": {
        "id": "presidential-contractor"
      },
      "outputs": [],
      "source": [
        "# # !pip install kaggle\n",
        "!mkdir ~/.kaggle\n",
        "!cp /content/drive/MyDrive/\"Colab Notebooks\"/kaggle/kaggle.json ~/.kaggle/kaggle.json\n",
        "import kaggle"
      ]
    },
    {
      "cell_type": "code",
      "execution_count": null,
      "id": "figured-yeast",
      "metadata": {
        "id": "figured-yeast"
      },
      "outputs": [],
      "source": [
        "!kaggle competitions download -c idl-fall21-hw2p2s1-face-classification"
      ]
    },
    {
      "cell_type": "code",
      "execution_count": null,
      "id": "equivalent-denver",
      "metadata": {
        "scrolled": true,
        "tags": [],
        "id": "equivalent-denver"
      },
      "outputs": [],
      "source": [
        "!unzip idl-fall21-hw2p2s1-face-classification"
      ]
    },
    {
      "cell_type": "code",
      "execution_count": null,
      "id": "pointed-halloween",
      "metadata": {
        "id": "pointed-halloween"
      },
      "outputs": [],
      "source": [
        "class ImageDataset(Dataset):\n",
        "    def __init__(self, file_list, target_list):\n",
        "        self.file_list = file_list\n",
        "        self.target_list = target_list\n",
        "        self.n_class = len(list(set(target_list)))\n",
        "\n",
        "    def __len__(self):\n",
        "        return len(self.file_list)\n",
        "\n",
        "    def __getitem__(self, index):\n",
        "        img = Image.open(self.file_list[index])\n",
        "        img = torchvision.transforms.ToTensor()(img)\n",
        "        label = self.target_list[index]\n",
        "        return img, label"
      ]
    },
    {
      "cell_type": "code",
      "execution_count": null,
      "id": "adjacent-password",
      "metadata": {
        "id": "adjacent-password"
      },
      "outputs": [],
      "source": [
        "def parse_data(datadir):\n",
        "    img_list = []\n",
        "    ID_list = []\n",
        "    for root, directories, filenames in os.walk(datadir):  #root: median/1\n",
        "        for filename in filenames:\n",
        "            if filename.endswith('.jpg'):\n",
        "                filei = os.path.join(root, filename)\n",
        "                img_list.append(filei)\n",
        "                ID_list.append(root.split('/')[-1])\n",
        "\n",
        "    # construct a dictionary, where key and value correspond to ID and target\n",
        "    uniqueID_list = list(set(ID_list))\n",
        "    class_n = len(uniqueID_list)\n",
        "    target_dict = dict(zip(uniqueID_list, range(class_n)))\n",
        "    label_list = [target_dict[ID_key] for ID_key in ID_list]\n",
        "\n",
        "    print('{}\\t\\t{}\\n{}\\t\\t{}'.format('#Images', '#Labels', len(img_list), len(set(label_list))))\n",
        "    return img_list, label_list, class_n"
      ]
    },
    {
      "cell_type": "code",
      "execution_count": null,
      "id": "resistant-donna",
      "metadata": {
        "id": "resistant-donna",
        "outputId": "98b39cd4-993a-4b31-81de-43791be85fb0"
      },
      "outputs": [
        {
          "name": "stdout",
          "output_type": "stream",
          "text": [
            "#Images\t\t#Labels\n",
            "380638\t\t4000\n"
          ]
        }
      ],
      "source": [
        "img_list, label_list, class_n = parse_data('./train_data')"
      ]
    },
    {
      "cell_type": "code",
      "execution_count": null,
      "id": "mobile-gambling",
      "metadata": {
        "id": "mobile-gambling"
      },
      "outputs": [],
      "source": [
        "trainset = ImageDataset(img_list, label_list)"
      ]
    },
    {
      "cell_type": "code",
      "execution_count": null,
      "id": "orange-robert",
      "metadata": {
        "id": "orange-robert"
      },
      "outputs": [],
      "source": [
        "train_data_item, train_data_label = trainset.__getitem__(0)"
      ]
    },
    {
      "cell_type": "code",
      "execution_count": null,
      "id": "korean-singer",
      "metadata": {
        "id": "korean-singer",
        "outputId": "8e0dc2b4-4d39-4e3c-bcb7-da34ea4c35f8"
      },
      "outputs": [
        {
          "name": "stdout",
          "output_type": "stream",
          "text": [
            "data item shape: torch.Size([3, 64, 64])\t data item label: 3684\n"
          ]
        }
      ],
      "source": [
        "print('data item shape: {}\\t data item label: {}'.format(train_data_item.shape, train_data_label))"
      ]
    },
    {
      "cell_type": "code",
      "execution_count": null,
      "id": "controlling-elimination",
      "metadata": {
        "id": "controlling-elimination"
      },
      "outputs": [],
      "source": [
        "dataloader = DataLoader(trainset, batch_size=128, shuffle=True, num_workers=1, drop_last=False)"
      ]
    },
    {
      "cell_type": "markdown",
      "id": "ecological-surname",
      "metadata": {
        "id": "ecological-surname"
      },
      "source": [
        "## Torchvision DataSet and DataLoader"
      ]
    },
    {
      "cell_type": "code",
      "execution_count": null,
      "id": "greek-congo",
      "metadata": {
        "id": "greek-congo"
      },
      "outputs": [],
      "source": [
        "imageFolder_dataset = torchvision.datasets.ImageFolder(root='train_data/', \n",
        "                                                       transform=torchvision.transforms.ToTensor())"
      ]
    },
    {
      "cell_type": "code",
      "execution_count": null,
      "id": "compressed-timeline",
      "metadata": {
        "id": "compressed-timeline"
      },
      "outputs": [],
      "source": [
        "imageFolder_dataloader = DataLoader(imageFolder_dataset, batch_size=10, shuffle=True, num_workers=1)"
      ]
    },
    {
      "cell_type": "code",
      "execution_count": null,
      "id": "appointed-authorization",
      "metadata": {
        "id": "appointed-authorization",
        "outputId": "a6ffe703-cbe0-498d-d950-34e6f675affb"
      },
      "outputs": [
        {
          "name": "stdout",
          "output_type": "stream",
          "text": [
            "380638 4000\n"
          ]
        }
      ],
      "source": [
        "print(imageFolder_dataset.__len__(), len(imageFolder_dataset.classes))"
      ]
    },
    {
      "cell_type": "markdown",
      "id": "ambient-destination",
      "metadata": {
        "id": "ambient-destination"
      },
      "source": [
        "## ResNet Class"
      ]
    },
    {
      "cell_type": "code",
      "execution_count": null,
      "id": "veterinary-saint",
      "metadata": {
        "id": "veterinary-saint"
      },
      "outputs": [],
      "source": [
        "\"\"\"\n",
        "\n",
        "This cell is credited to the SOURCE CODE FOR TORCHVISION.MODELS.RESNET\n",
        "\n",
        "URL: https://pytorch.org/vision/0.8/_modules/torchvision/models/resnet.html\n",
        "\n",
        "\"\"\"\n",
        "\n",
        "def conv3x3(in_planes, out_planes, stride=1, groups=1, dilation=1):\n",
        "    \"\"\"3x3 convolution with padding\"\"\"\n",
        "    return nn.Conv2d(in_planes, out_planes, kernel_size=3, stride=stride,\n",
        "                     padding=dilation, groups=groups, bias=False, dilation=dilation)\n",
        "\n",
        "\n",
        "def conv1x1(in_planes, out_planes, stride=1):\n",
        "    \"\"\"1x1 convolution\"\"\"\n",
        "    return nn.Conv2d(in_planes, out_planes, kernel_size=1, stride=stride, bias=False)\n",
        "\n",
        "\n",
        "class BasicBlock(nn.Module):\n",
        "    expansion = 1\n",
        "\n",
        "    def __init__(self, inplanes, planes, stride=1):\n",
        "        super(BasicBlock, self).__init__()\n",
        "        # Both self.conv1 and self.downsample layers downsample the input when stride != 1\n",
        "        self.conv1 = conv3x3(inplanes, planes, stride)\n",
        "        self.bn1 = nn.BatchNorm2d(planes)\n",
        "        self.relu = nn.ReLU(inplace=True)\n",
        "        self.conv2 = conv3x3(planes, planes)\n",
        "        self.bn2 = nn.BatchNorm2d(planes)\n",
        "        self.downsample = None\n",
        "        self.stride = stride\n",
        "\n",
        "    def forward(self, x):\n",
        "        identity = x\n",
        "\n",
        "        out = self.conv1(x)\n",
        "        out = self.bn1(out)\n",
        "        out = self.relu(out)\n",
        "\n",
        "        out = self.conv2(out)\n",
        "        out = self.bn2(out)\n",
        "\n",
        "        out += identity\n",
        "        out = self.relu(out)\n",
        "\n",
        "        return out"
      ]
    },
    {
      "cell_type": "code",
      "execution_count": null,
      "id": "effective-genealogy",
      "metadata": {
        "id": "effective-genealogy"
      },
      "outputs": [],
      "source": [
        "class ResNet(nn.Module):\n",
        "\n",
        "    def __init__(self, block, layers, num_classes=4000, zero_init_residual=False,\n",
        "                 groups=1, width_per_group=64, replace_stride_with_dilation=None,\n",
        "                 norm_layer=None):\n",
        "        super(ResNet, self).__init__()\n",
        "        if norm_layer is None:\n",
        "            norm_layer = nn.BatchNorm2d\n",
        "        self._norm_layer = norm_layer\n",
        "\n",
        "        self.inplanes = 64\n",
        "        self.dilation = 1\n",
        "        if replace_stride_with_dilation is None:\n",
        "            # each element in the tuple indicates if we should replace\n",
        "            # the 2x2 stride with a dilated convolution instead\n",
        "            replace_stride_with_dilation = [False, False, False]\n",
        "        if len(replace_stride_with_dilation) != 3:\n",
        "            raise ValueError(\"replace_stride_with_dilation should be None \"\n",
        "                             \"or a 3-element tuple, got {}\".format(replace_stride_with_dilation))\n",
        "        self.groups = groups\n",
        "        self.base_width = width_per_group\n",
        "        self.conv1 = nn.Conv2d(3, self.inplanes, kernel_size=7, stride=2, padding=3,\n",
        "                               bias=False)\n",
        "        self.bn1 = norm_layer(self.inplanes)\n",
        "        self.relu = nn.ReLU(inplace=True)\n",
        "        self.maxpool = nn.MaxPool2d(kernel_size=3, stride=2, padding=1)\n",
        "        self.layer1 = self._make_layer(block, 64, layers[0])\n",
        "        self.layer2 = self._make_layer(block, 128, layers[1], stride=2,\n",
        "                                       dilate=replace_stride_with_dilation[0])\n",
        "        self.layer3 = self._make_layer(block, 256, layers[2], stride=2,\n",
        "                                       dilate=replace_stride_with_dilation[1])\n",
        "        self.layer4 = self._make_layer(block, 512, layers[3], stride=2,\n",
        "                                       dilate=replace_stride_with_dilation[2])\n",
        "        self.avgpool = nn.AdaptiveAvgPool2d((1, 1))\n",
        "        self.fc = nn.Linear(512 * block.expansion, num_classes)\n",
        "\n",
        "        for m in self.modules():\n",
        "            if isinstance(m, nn.Conv2d):\n",
        "                nn.init.kaiming_normal_(m.weight, mode='fan_out', nonlinearity='relu')\n",
        "            elif isinstance(m, (nn.BatchNorm2d, nn.GroupNorm)):\n",
        "                nn.init.constant_(m.weight, 1)\n",
        "                nn.init.constant_(m.bias, 0)\n",
        "\n",
        "        # Zero-initialize the last BN in each residual branch,\n",
        "        # so that the residual branch starts with zeros, and each residual block behaves like an identity.\n",
        "        # This improves the model by 0.2~0.3% according to https://arxiv.org/abs/1706.02677\n",
        "        if zero_init_residual:\n",
        "            for m in self.modules():\n",
        "                if isinstance(m, Bottleneck):\n",
        "                    nn.init.constant_(m.bn3.weight, 0)\n",
        "                elif isinstance(m, BasicBlock):\n",
        "                    nn.init.constant_(m.bn2.weight, 0)\n",
        "\n",
        "    def _make_layer(self, block, planes, blocks, stride=1, dilate=False):\n",
        "        norm_layer = self._norm_layer\n",
        "        downsample = None\n",
        "        previous_dilation = self.dilation\n",
        "        if dilate:\n",
        "            self.dilation *= stride\n",
        "            stride = 1\n",
        "        if stride != 1 or self.inplanes != planes * block.expansion:\n",
        "            downsample = nn.Sequential(\n",
        "                conv1x1(self.inplanes, planes * block.expansion, stride),\n",
        "                norm_layer(planes * block.expansion),\n",
        "            )\n",
        "\n",
        "        layers = []\n",
        "        layers.append(block(self.inplanes, planes, stride))\n",
        "        self.inplanes = planes * block.expansion\n",
        "        for _ in range(1, blocks):\n",
        "            layers.append(block(self.inplanes, planes))\n",
        "\n",
        "        return nn.Sequential(*layers)\n",
        "\n",
        "    def _forward_impl(self, x):\n",
        "        # See note [TorchScript super()]\n",
        "        x = self.conv1(x)\n",
        "        x = self.bn1(x)\n",
        "        x = self.relu(x)\n",
        "        x = self.maxpool(x)\n",
        "\n",
        "        x = self.layer1(x)\n",
        "        x = self.layer2(x)\n",
        "        x = self.layer3(x)\n",
        "        x = self.layer4(x)\n",
        "\n",
        "        x = self.avgpool(x)\n",
        "        x = torch.flatten(x, 1)\n",
        "        x = self.fc(x)\n",
        "\n",
        "        return x\n",
        "\n",
        "    def forward(self, x):\n",
        "        return self._forward_impl(x)\n",
        "\n",
        "\n",
        "def _resnet(arch, block, layers, **kwargs):\n",
        "    model = ResNet(block, layers, **kwargs)\n",
        "    return model\n",
        "\n",
        "def resnet34(progress=True, **kwargs):\n",
        "    return _resnet('resnet34', BasicBlock, [3, 4, 6, 3], **kwargs)"
      ]
    },
    {
      "cell_type": "markdown",
      "id": "d9d262b3-68af-4d32-8ce8-7de6525fe72d",
      "metadata": {
        "id": "d9d262b3-68af-4d32-8ce8-7de6525fe72d"
      },
      "source": [
        "# Datasets and DataLoaders"
      ]
    },
    {
      "cell_type": "code",
      "execution_count": null,
      "id": "animal-australian",
      "metadata": {
        "id": "animal-australian"
      },
      "outputs": [],
      "source": [
        "from torchvision import transforms\n",
        "\n",
        "myTrainTransforms = transforms.Compose([transforms.Resize((224,224)),\n",
        "                                  # transforms.RandomRotation(20),\n",
        "                                  transforms.ColorJitter(hue=.05,saturation=.05, brightness = 0.3),\n",
        "                                  transforms.RandomHorizontalFlip(),\n",
        "                                  transforms.RandomAffine(20),\n",
        "                                  transforms.ToTensor(),\n",
        "                                  transforms.Normalize((0.485, 0.456, 0.406), (0.229, 0.224, 0.225))])\n",
        "\n",
        "myTestTransforms = transforms.Compose([transforms.Resize((224,224)),\n",
        "                                      transforms.ToTensor(),\n",
        "                                      transforms.Normalize((0.485, 0.456, 0.406), (0.229, 0.224, 0.225))])\n",
        "\n",
        "train_dataset = torchvision.datasets.ImageFolder(root='train_data', \n",
        "                                                 transform=myTrainTransforms) #.transforms.ToTensor())\n",
        "train_dataloader = torch.utils.data.DataLoader(train_dataset, batch_size=128, \n",
        "                                               shuffle=True, num_workers=8)\n",
        "\n",
        "dev_dataset = torchvision.datasets.ImageFolder(root='val_data/', \n",
        "                                               transform= myTestTransforms)\n",
        "dev_dataloader = torch.utils.data.DataLoader(dev_dataset, batch_size=128, \n",
        "                                             shuffle=False, num_workers=8)"
      ]
    },
    {
      "cell_type": "markdown",
      "id": "bc06a0a7-99ad-4fec-9731-5c2ef058a9cb",
      "metadata": {
        "id": "bc06a0a7-99ad-4fec-9731-5c2ef058a9cb"
      },
      "source": [
        "# Instantiation and Initializations"
      ]
    },
    {
      "cell_type": "code",
      "execution_count": null,
      "id": "round-scout",
      "metadata": {
        "id": "round-scout"
      },
      "outputs": [],
      "source": [
        "numEpochs = 100\n",
        "in_features = 3 # RGB channels\n",
        "\n",
        "learningRate = 0.1\n",
        "weightDecay = 5e-5 \n",
        "\n",
        "num_classes = len(train_dataset.classes)\n",
        "\n",
        "device = torch.device('cuda' if torch.cuda.is_available() else 'cpu')\n",
        "\n",
        "model = resnet34(pretrained=False, progress=True, num_classes = 4000)\n",
        "\n",
        "model = model.to(device)\n",
        "\n",
        "criterion = nn.CrossEntropyLoss()\n",
        "optimizer = torch.optim.SGD(model.parameters(), nesterov =True, lr=learningRate, weight_decay=weightDecay, momentum=0.9)\n",
        "lr_scheduler = torch.optim.lr_scheduler.ReduceLROnPlateau(optimizer, factor=0.7, patience=1, verbose =True)"
      ]
    },
    {
      "cell_type": "markdown",
      "id": "b7bd6309-8582-4753-8d44-fdf88c70222b",
      "metadata": {
        "id": "b7bd6309-8582-4753-8d44-fdf88c70222b"
      },
      "source": [
        "# Training the Model"
      ]
    },
    {
      "cell_type": "code",
      "execution_count": null,
      "id": "75661e05-7083-40d0-b728-5c72469df1b3",
      "metadata": {
        "id": "75661e05-7083-40d0-b728-5c72469df1b3",
        "outputId": "4abab0f6-4d46-46b6-ece1-df10430791e2"
      },
      "outputs": [
        {
          "data": {
            "text/plain": [
              "<All keys matched successfully>"
            ]
          },
          "execution_count": 21,
          "metadata": {},
          "output_type": "execute_result"
        }
      ],
      "source": [
        "model.load_state_dict(torch.load(\"model_29.pt\"))"
      ]
    },
    {
      "cell_type": "code",
      "execution_count": null,
      "id": "banner-vegetation",
      "metadata": {
        "tags": [],
        "id": "banner-vegetation"
      },
      "outputs": [],
      "source": [
        "# Train!\n",
        "# epoch = 0\n",
        "for epoch in range(epoch, numEpochs):\n",
        "    \n",
        "    # Train\n",
        "    model.train()\n",
        "    avg_loss = 0.0\n",
        "    for batch_num, (x, y) in enumerate(train_dataloader):\n",
        "        optimizer.zero_grad()\n",
        "        \n",
        "        x, y = x.to(device), y.to(device)\n",
        "\n",
        "        outputs = model(x)\n",
        "\n",
        "        loss = criterion(outputs, y.long())\n",
        "        loss.backward()\n",
        "        optimizer.step()\n",
        "\n",
        "        avg_loss += loss.item()\n",
        "\n",
        "        if (batch_num+1) % 1000 == 0:\n",
        "            print('Epoch: {}\\tBatch: {}\\tAvg-Loss: {:.4f}'.format(epoch+1, batch_num+1, avg_loss/5000))\n",
        "            avg_loss = 0.0\n",
        "        \n",
        "        if((epoch+1)%20 == 0):\n",
        "            for group in optimizer.param_groups:\n",
        "                group['lr'] /=2\n",
        "        \n",
        "        # Saving the model\n",
        "        # saved_model_name = \"model_\"+str(epoch)+\".ckpt\"\n",
        "        # torch.save(model.state_dict(), saved_model_name)\n",
        "    \n",
        "    # Validate\n",
        "    model.eval()\n",
        "    num_correct = 0\n",
        "    avg_val_loss = 0\n",
        "    for batch_num, (x, y) in enumerate(dev_dataloader):\n",
        "        x, y = x.to(device), y.to(device)\n",
        "        outputs = model(x)\n",
        "        num_correct += (torch.argmax(outputs, axis=1) == y).sum().item()\n",
        "        val_loss = criterion(outputs, y.long())\n",
        "        avg_val_loss += val_loss.item()\n",
        "    \n",
        "    accuracy = num_correct / len(dev_dataset)\n",
        "    avg_val_loss /= len(dev_dataset)\n",
        "    lr_scheduler.step(avg_val_loss)\n",
        "    \n",
        "    print('Epoch: {}, Validation Accuracy: {:.2f}'.format(epoch+1, num_correct / len(dev_dataset)))\n",
        "    # if epoch%5==0:\n",
        "    torch.save(model.state_dict(), 'model_' + str(epoch+1) + '.pt')\n",
        "    checkpoint = { \n",
        "                    'epoch': epoch,\n",
        "                    'model': model,\n",
        "                    'optimizer': optimizer,\n",
        "                    'lr_sched': lr_scheduler}\n",
        "    torch.save(checkpoint, 'checkpoint_modelss_' + str(epoch+1) + '.pt')"
      ]
    },
    {
      "cell_type": "markdown",
      "id": "spiritual-combat",
      "metadata": {
        "id": "spiritual-combat"
      },
      "source": [
        "# Resume training from saved model\n",
        "\n",
        "####                 In case it is needed to resume training instead of starting training from 0th epoch"
      ]
    },
    {
      "cell_type": "code",
      "execution_count": null,
      "id": "6b10757b-a3a5-4762-b0bf-f926a345e248",
      "metadata": {
        "id": "6b10757b-a3a5-4762-b0bf-f926a345e248"
      },
      "outputs": [],
      "source": [
        "# # model = Net()\n",
        "# # optimizer = optim.SGD(net.parameters(), lr=0.1, momentum=0.9)\n",
        "\n",
        "        # checkpoint = torch.load(\"checkpoint_model_27.pt\")\n",
        "        # model = checkpoint['model']\n",
        "        # optimizer = checkpoint['optimizer']\n",
        "        # epoch = checkpoint['epoch']\n",
        "# # loss = checkpoint['loss']"
      ]
    },
    {
      "cell_type": "code",
      "execution_count": null,
      "id": "japanese-wisconsin",
      "metadata": {
        "id": "japanese-wisconsin",
        "outputId": "38169317-cca6-474f-f603-d7c5f15daadd"
      },
      "outputs": [
        {
          "name": "stdout",
          "output_type": "stream",
          "text": [
            "Epoch: 1\tBatch: 1000\tAvg-Loss: 0.1430\n",
            "Epoch: 1\tBatch: 2000\tAvg-Loss: 0.1428\n",
            "Epoch: 1, Validation Accuracy: 0.72\n",
            "Epoch: 1\tBatch: 1000\tAvg-Loss: 0.1428\n",
            "Epoch: 1\tBatch: 2000\tAvg-Loss: 0.1424\n",
            "Epoch: 1, Validation Accuracy: 0.72\n",
            "Epoch: 1\tBatch: 1000\tAvg-Loss: 0.1427\n",
            "Epoch: 1\tBatch: 2000\tAvg-Loss: 0.1419\n",
            "Epoch: 1, Validation Accuracy: 0.72\n",
            "Epoch: 1\tBatch: 1000\tAvg-Loss: 0.1416\n"
          ]
        }
      ],
      "source": [
        "epoch = 0\n",
        "while(epoch < numEpochs):\n",
        "    \n",
        "    # Train\n",
        "    model.train()\n",
        "    avg_loss = 0.0\n",
        "    for batch_num, (x, y) in enumerate(train_dataloader):\n",
        "        optimizer.zero_grad()\n",
        "\n",
        "        x, y = x.to(device), y.to(device)\n",
        "\n",
        "        outputs = model(x)\n",
        "\n",
        "        loss = criterion(outputs, y.long())\n",
        "        loss.backward()\n",
        "        optimizer.step()\n",
        "\n",
        "        avg_loss += loss.item()\n",
        "\n",
        "        if (batch_num+1) % 1000 == 0:\n",
        "            print('Epoch: {}\\tBatch: {}\\tAvg-Loss: {:.4f}'.format(epoch+1, batch_num+1, avg_loss/5000))\n",
        "            avg_loss = 0.0\n",
        "\n",
        "        if((epoch+1)%20 == 0):\n",
        "            for group in optimizer.param_groups:\n",
        "                group['lr'] /=2\n",
        "\n",
        "        # Saving the model\n",
        "        # saved_model_name = \"model_\"+str(epoch)+\".ckpt\"\n",
        "        # torch.save(model.state_dict(), saved_model_name)\n",
        "    \n",
        "    # Validate\n",
        "    model.eval()\n",
        "    num_correct = 0\n",
        "    avg_val_loss = 0\n",
        "    for batch_num, (x, y) in enumerate(dev_dataloader):\n",
        "        x, y = x.to(device), y.to(device)\n",
        "        outputs = model(x)\n",
        "        num_correct += (torch.argmax(outputs, axis=1) == y).sum().item()\n",
        "        val_loss = criterion(outputs, y.long())\n",
        "        avg_val_loss += val_loss.item()\n",
        "\n",
        "    accuracy = num_correct / len(dev_dataset)\n",
        "    avg_val_loss /= len(dev_dataset)\n",
        "    lr_scheduler.step(avg_val_loss)\n",
        "\n",
        "    print('Epoch: {}, Validation Accuracy: {:.2f}'.format(epoch+1, num_correct / len(dev_dataset)))\n",
        "    # if epoch%5==0:\n",
        "    torch.save(model.state_dict(), 'model_' + str(epoch+1) + '.pt')\n",
        "    checkpoint = { \n",
        "                    'epoch': epoch,\n",
        "                    'model': model,\n",
        "                    'optimizer': optimizer,\n",
        "                    'lr_sched': lr_scheduler}\n",
        "    torch.save(checkpoint, 'checkpoint_modelss_' + str(epoch+1) + '.pt')\n",
        "    epoch +=1"
      ]
    },
    {
      "cell_type": "code",
      "execution_count": null,
      "id": "bf069741-5559-4762-b0ac-97630f7b90d2",
      "metadata": {
        "id": "bf069741-5559-4762-b0ac-97630f7b90d2"
      },
      "outputs": [],
      "source": [
        "optimizer.state_dict"
      ]
    },
    {
      "cell_type": "code",
      "execution_count": null,
      "id": "4f79d72d-5871-4da7-a71d-7fa61a4797df",
      "metadata": {
        "id": "4f79d72d-5871-4da7-a71d-7fa61a4797df"
      },
      "outputs": [],
      "source": [
        "train_dataset.class_to_idx"
      ]
    },
    {
      "cell_type": "code",
      "execution_count": null,
      "id": "ee429793-e16a-46b3-be89-e17e74778413",
      "metadata": {
        "id": "ee429793-e16a-46b3-be89-e17e74778413",
        "outputId": "59596267-cd7c-41f7-a758-7f5cca1a0dec"
      },
      "outputs": [
        {
          "name": "stdout",
          "output_type": "stream",
          "text": [
            "Epoch: 1, Validation Accuracy: 0.69\n"
          ]
        }
      ],
      "source": [
        "checkpoint2 = torch.load('checkpoint_modelss_1.pt')\n",
        "model = resnet34(pretrained=False, progress=True, num_classes = 4000)\n",
        "model = checkpoint2['model']\n",
        "\n",
        "model.eval()\n",
        "num_correct = 0\n",
        "avg_val_loss = 0\n",
        "for batch_num, (x, y) in enumerate(dev_dataloader):\n",
        "    x, y = x.to(device), y.to(device)\n",
        "    outputs = model(x)\n",
        "    num_correct += (torch.argmax(outputs, axis=1) == y).sum().item()\n",
        "    val_loss = criterion(outputs, y.long())\n",
        "    avg_val_loss += val_loss.item()\n",
        "\n",
        "accuracy = num_correct / len(dev_dataset)\n",
        "avg_val_loss /= len(dev_dataset)\n",
        "lr_scheduler.step(avg_val_loss)\n",
        "\n",
        "print('Epoch: {}, Validation Accuracy: {:.2f}'.format(epoch+1, num_correct / len(dev_dataset)))"
      ]
    },
    {
      "cell_type": "markdown",
      "id": "critical-literacy",
      "metadata": {
        "id": "critical-literacy"
      },
      "source": [
        "### The models predictions is generally the main features in the image. The features can be used to compute cosine similarity between predictor image and other images."
      ]
    }
  ],
  "metadata": {
    "kernelspec": {
      "display_name": "Python 3 (ipykernel)",
      "language": "python",
      "name": "python3"
    },
    "language_info": {
      "codemirror_mode": {
        "name": "ipython",
        "version": 3
      },
      "file_extension": ".py",
      "mimetype": "text/x-python",
      "name": "python",
      "nbconvert_exporter": "python",
      "pygments_lexer": "ipython3",
      "version": "3.10.5"
    },
    "colab": {
      "provenance": []
    }
  },
  "nbformat": 4,
  "nbformat_minor": 5
}